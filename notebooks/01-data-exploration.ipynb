{
 "cells": [
  {
   "cell_type": "markdown",
   "metadata": {},
   "source": [
    "# Housing Prices"
   ]
  },
  {
   "cell_type": "code",
   "execution_count": 276,
   "metadata": {},
   "outputs": [],
   "source": [
    "import pandas as pd\n",
    "import seaborn as sns"
   ]
  },
  {
   "cell_type": "markdown",
   "metadata": {},
   "source": [
    "## Get the data"
   ]
  },
  {
   "cell_type": "code",
   "execution_count": 218,
   "metadata": {},
   "outputs": [],
   "source": [
    "raw_test_data = pd.read_csv('../data/raw/test.csv', index_col='Id')"
   ]
  },
  {
   "cell_type": "markdown",
   "metadata": {},
   "source": [
    "Take an intial look at the data"
   ]
  },
  {
   "cell_type": "code",
   "execution_count": 219,
   "metadata": {},
   "outputs": [
    {
     "data": {
      "text/html": [
       "<div>\n",
       "<style scoped>\n",
       "    .dataframe tbody tr th:only-of-type {\n",
       "        vertical-align: middle;\n",
       "    }\n",
       "\n",
       "    .dataframe tbody tr th {\n",
       "        vertical-align: top;\n",
       "    }\n",
       "\n",
       "    .dataframe thead th {\n",
       "        text-align: right;\n",
       "    }\n",
       "</style>\n",
       "<table border=\"1\" class=\"dataframe\">\n",
       "  <thead>\n",
       "    <tr style=\"text-align: right;\">\n",
       "      <th></th>\n",
       "      <th>MSSubClass</th>\n",
       "      <th>MSZoning</th>\n",
       "      <th>LotFrontage</th>\n",
       "      <th>LotArea</th>\n",
       "      <th>Street</th>\n",
       "      <th>Alley</th>\n",
       "      <th>LotShape</th>\n",
       "      <th>LandContour</th>\n",
       "      <th>Utilities</th>\n",
       "      <th>LotConfig</th>\n",
       "      <th>...</th>\n",
       "      <th>ScreenPorch</th>\n",
       "      <th>PoolArea</th>\n",
       "      <th>PoolQC</th>\n",
       "      <th>Fence</th>\n",
       "      <th>MiscFeature</th>\n",
       "      <th>MiscVal</th>\n",
       "      <th>MoSold</th>\n",
       "      <th>YrSold</th>\n",
       "      <th>SaleType</th>\n",
       "      <th>SaleCondition</th>\n",
       "    </tr>\n",
       "    <tr>\n",
       "      <th>Id</th>\n",
       "      <th></th>\n",
       "      <th></th>\n",
       "      <th></th>\n",
       "      <th></th>\n",
       "      <th></th>\n",
       "      <th></th>\n",
       "      <th></th>\n",
       "      <th></th>\n",
       "      <th></th>\n",
       "      <th></th>\n",
       "      <th></th>\n",
       "      <th></th>\n",
       "      <th></th>\n",
       "      <th></th>\n",
       "      <th></th>\n",
       "      <th></th>\n",
       "      <th></th>\n",
       "      <th></th>\n",
       "      <th></th>\n",
       "      <th></th>\n",
       "      <th></th>\n",
       "    </tr>\n",
       "  </thead>\n",
       "  <tbody>\n",
       "    <tr>\n",
       "      <th>1461</th>\n",
       "      <td>20</td>\n",
       "      <td>RH</td>\n",
       "      <td>80.0</td>\n",
       "      <td>11622</td>\n",
       "      <td>Pave</td>\n",
       "      <td>NaN</td>\n",
       "      <td>Reg</td>\n",
       "      <td>Lvl</td>\n",
       "      <td>AllPub</td>\n",
       "      <td>Inside</td>\n",
       "      <td>...</td>\n",
       "      <td>120</td>\n",
       "      <td>0</td>\n",
       "      <td>NaN</td>\n",
       "      <td>MnPrv</td>\n",
       "      <td>NaN</td>\n",
       "      <td>0</td>\n",
       "      <td>6</td>\n",
       "      <td>2010</td>\n",
       "      <td>WD</td>\n",
       "      <td>Normal</td>\n",
       "    </tr>\n",
       "    <tr>\n",
       "      <th>1462</th>\n",
       "      <td>20</td>\n",
       "      <td>RL</td>\n",
       "      <td>81.0</td>\n",
       "      <td>14267</td>\n",
       "      <td>Pave</td>\n",
       "      <td>NaN</td>\n",
       "      <td>IR1</td>\n",
       "      <td>Lvl</td>\n",
       "      <td>AllPub</td>\n",
       "      <td>Corner</td>\n",
       "      <td>...</td>\n",
       "      <td>0</td>\n",
       "      <td>0</td>\n",
       "      <td>NaN</td>\n",
       "      <td>NaN</td>\n",
       "      <td>Gar2</td>\n",
       "      <td>12500</td>\n",
       "      <td>6</td>\n",
       "      <td>2010</td>\n",
       "      <td>WD</td>\n",
       "      <td>Normal</td>\n",
       "    </tr>\n",
       "    <tr>\n",
       "      <th>1463</th>\n",
       "      <td>60</td>\n",
       "      <td>RL</td>\n",
       "      <td>74.0</td>\n",
       "      <td>13830</td>\n",
       "      <td>Pave</td>\n",
       "      <td>NaN</td>\n",
       "      <td>IR1</td>\n",
       "      <td>Lvl</td>\n",
       "      <td>AllPub</td>\n",
       "      <td>Inside</td>\n",
       "      <td>...</td>\n",
       "      <td>0</td>\n",
       "      <td>0</td>\n",
       "      <td>NaN</td>\n",
       "      <td>MnPrv</td>\n",
       "      <td>NaN</td>\n",
       "      <td>0</td>\n",
       "      <td>3</td>\n",
       "      <td>2010</td>\n",
       "      <td>WD</td>\n",
       "      <td>Normal</td>\n",
       "    </tr>\n",
       "    <tr>\n",
       "      <th>1464</th>\n",
       "      <td>60</td>\n",
       "      <td>RL</td>\n",
       "      <td>78.0</td>\n",
       "      <td>9978</td>\n",
       "      <td>Pave</td>\n",
       "      <td>NaN</td>\n",
       "      <td>IR1</td>\n",
       "      <td>Lvl</td>\n",
       "      <td>AllPub</td>\n",
       "      <td>Inside</td>\n",
       "      <td>...</td>\n",
       "      <td>0</td>\n",
       "      <td>0</td>\n",
       "      <td>NaN</td>\n",
       "      <td>NaN</td>\n",
       "      <td>NaN</td>\n",
       "      <td>0</td>\n",
       "      <td>6</td>\n",
       "      <td>2010</td>\n",
       "      <td>WD</td>\n",
       "      <td>Normal</td>\n",
       "    </tr>\n",
       "    <tr>\n",
       "      <th>1465</th>\n",
       "      <td>120</td>\n",
       "      <td>RL</td>\n",
       "      <td>43.0</td>\n",
       "      <td>5005</td>\n",
       "      <td>Pave</td>\n",
       "      <td>NaN</td>\n",
       "      <td>IR1</td>\n",
       "      <td>HLS</td>\n",
       "      <td>AllPub</td>\n",
       "      <td>Inside</td>\n",
       "      <td>...</td>\n",
       "      <td>144</td>\n",
       "      <td>0</td>\n",
       "      <td>NaN</td>\n",
       "      <td>NaN</td>\n",
       "      <td>NaN</td>\n",
       "      <td>0</td>\n",
       "      <td>1</td>\n",
       "      <td>2010</td>\n",
       "      <td>WD</td>\n",
       "      <td>Normal</td>\n",
       "    </tr>\n",
       "  </tbody>\n",
       "</table>\n",
       "<p>5 rows × 79 columns</p>\n",
       "</div>"
      ],
      "text/plain": [
       "      MSSubClass MSZoning  LotFrontage  LotArea Street Alley LotShape  \\\n",
       "Id                                                                      \n",
       "1461          20       RH         80.0    11622   Pave   NaN      Reg   \n",
       "1462          20       RL         81.0    14267   Pave   NaN      IR1   \n",
       "1463          60       RL         74.0    13830   Pave   NaN      IR1   \n",
       "1464          60       RL         78.0     9978   Pave   NaN      IR1   \n",
       "1465         120       RL         43.0     5005   Pave   NaN      IR1   \n",
       "\n",
       "     LandContour Utilities LotConfig  ... ScreenPorch PoolArea PoolQC  Fence  \\\n",
       "Id                                    ...                                      \n",
       "1461         Lvl    AllPub    Inside  ...         120        0    NaN  MnPrv   \n",
       "1462         Lvl    AllPub    Corner  ...           0        0    NaN    NaN   \n",
       "1463         Lvl    AllPub    Inside  ...           0        0    NaN  MnPrv   \n",
       "1464         Lvl    AllPub    Inside  ...           0        0    NaN    NaN   \n",
       "1465         HLS    AllPub    Inside  ...         144        0    NaN    NaN   \n",
       "\n",
       "     MiscFeature MiscVal  MoSold  YrSold  SaleType  SaleCondition  \n",
       "Id                                                                 \n",
       "1461         NaN       0       6    2010        WD         Normal  \n",
       "1462        Gar2   12500       6    2010        WD         Normal  \n",
       "1463         NaN       0       3    2010        WD         Normal  \n",
       "1464         NaN       0       6    2010        WD         Normal  \n",
       "1465         NaN       0       1    2010        WD         Normal  \n",
       "\n",
       "[5 rows x 79 columns]"
      ]
     },
     "execution_count": 219,
     "metadata": {},
     "output_type": "execute_result"
    }
   ],
   "source": [
    "raw_test_data.head()"
   ]
  },
  {
   "cell_type": "markdown",
   "metadata": {},
   "source": [
    "We can see the data consists of 79 different features of int, float and object (likely string) type with 1459 different entries."
   ]
  },
  {
   "cell_type": "code",
   "execution_count": 220,
   "metadata": {},
   "outputs": [
    {
     "name": "stdout",
     "output_type": "stream",
     "text": [
      "<class 'pandas.core.frame.DataFrame'>\n",
      "Int64Index: 1459 entries, 1461 to 2919\n",
      "Data columns (total 79 columns):\n",
      " #   Column         Non-Null Count  Dtype  \n",
      "---  ------         --------------  -----  \n",
      " 0   MSSubClass     1459 non-null   int64  \n",
      " 1   MSZoning       1455 non-null   object \n",
      " 2   LotFrontage    1232 non-null   float64\n",
      " 3   LotArea        1459 non-null   int64  \n",
      " 4   Street         1459 non-null   object \n",
      " 5   Alley          107 non-null    object \n",
      " 6   LotShape       1459 non-null   object \n",
      " 7   LandContour    1459 non-null   object \n",
      " 8   Utilities      1457 non-null   object \n",
      " 9   LotConfig      1459 non-null   object \n",
      " 10  LandSlope      1459 non-null   object \n",
      " 11  Neighborhood   1459 non-null   object \n",
      " 12  Condition1     1459 non-null   object \n",
      " 13  Condition2     1459 non-null   object \n",
      " 14  BldgType       1459 non-null   object \n",
      " 15  HouseStyle     1459 non-null   object \n",
      " 16  OverallQual    1459 non-null   int64  \n",
      " 17  OverallCond    1459 non-null   int64  \n",
      " 18  YearBuilt      1459 non-null   int64  \n",
      " 19  YearRemodAdd   1459 non-null   int64  \n",
      " 20  RoofStyle      1459 non-null   object \n",
      " 21  RoofMatl       1459 non-null   object \n",
      " 22  Exterior1st    1458 non-null   object \n",
      " 23  Exterior2nd    1458 non-null   object \n",
      " 24  MasVnrType     1443 non-null   object \n",
      " 25  MasVnrArea     1444 non-null   float64\n",
      " 26  ExterQual      1459 non-null   object \n",
      " 27  ExterCond      1459 non-null   object \n",
      " 28  Foundation     1459 non-null   object \n",
      " 29  BsmtQual       1415 non-null   object \n",
      " 30  BsmtCond       1414 non-null   object \n",
      " 31  BsmtExposure   1415 non-null   object \n",
      " 32  BsmtFinType1   1417 non-null   object \n",
      " 33  BsmtFinSF1     1458 non-null   float64\n",
      " 34  BsmtFinType2   1417 non-null   object \n",
      " 35  BsmtFinSF2     1458 non-null   float64\n",
      " 36  BsmtUnfSF      1458 non-null   float64\n",
      " 37  TotalBsmtSF    1458 non-null   float64\n",
      " 38  Heating        1459 non-null   object \n",
      " 39  HeatingQC      1459 non-null   object \n",
      " 40  CentralAir     1459 non-null   object \n",
      " 41  Electrical     1459 non-null   object \n",
      " 42  1stFlrSF       1459 non-null   int64  \n",
      " 43  2ndFlrSF       1459 non-null   int64  \n",
      " 44  LowQualFinSF   1459 non-null   int64  \n",
      " 45  GrLivArea      1459 non-null   int64  \n",
      " 46  BsmtFullBath   1457 non-null   float64\n",
      " 47  BsmtHalfBath   1457 non-null   float64\n",
      " 48  FullBath       1459 non-null   int64  \n",
      " 49  HalfBath       1459 non-null   int64  \n",
      " 50  BedroomAbvGr   1459 non-null   int64  \n",
      " 51  KitchenAbvGr   1459 non-null   int64  \n",
      " 52  KitchenQual    1458 non-null   object \n",
      " 53  TotRmsAbvGrd   1459 non-null   int64  \n",
      " 54  Functional     1457 non-null   object \n",
      " 55  Fireplaces     1459 non-null   int64  \n",
      " 56  FireplaceQu    729 non-null    object \n",
      " 57  GarageType     1383 non-null   object \n",
      " 58  GarageYrBlt    1381 non-null   float64\n",
      " 59  GarageFinish   1381 non-null   object \n",
      " 60  GarageCars     1458 non-null   float64\n",
      " 61  GarageArea     1458 non-null   float64\n",
      " 62  GarageQual     1381 non-null   object \n",
      " 63  GarageCond     1381 non-null   object \n",
      " 64  PavedDrive     1459 non-null   object \n",
      " 65  WoodDeckSF     1459 non-null   int64  \n",
      " 66  OpenPorchSF    1459 non-null   int64  \n",
      " 67  EnclosedPorch  1459 non-null   int64  \n",
      " 68  3SsnPorch      1459 non-null   int64  \n",
      " 69  ScreenPorch    1459 non-null   int64  \n",
      " 70  PoolArea       1459 non-null   int64  \n",
      " 71  PoolQC         3 non-null      object \n",
      " 72  Fence          290 non-null    object \n",
      " 73  MiscFeature    51 non-null     object \n",
      " 74  MiscVal        1459 non-null   int64  \n",
      " 75  MoSold         1459 non-null   int64  \n",
      " 76  YrSold         1459 non-null   int64  \n",
      " 77  SaleType       1458 non-null   object \n",
      " 78  SaleCondition  1459 non-null   object \n",
      "dtypes: float64(11), int64(25), object(43)\n",
      "memory usage: 911.9+ KB\n"
     ]
    }
   ],
   "source": [
    "raw_test_data.info()"
   ]
  },
  {
   "cell_type": "markdown",
   "metadata": {},
   "source": [
    "Make a copy of the data for exploration."
   ]
  },
  {
   "cell_type": "code",
   "execution_count": 221,
   "metadata": {},
   "outputs": [],
   "source": [
    "df = raw_test_data.copy()"
   ]
  },
  {
   "cell_type": "markdown",
   "metadata": {},
   "source": [
    "## Data exploration"
   ]
  },
  {
   "cell_type": "markdown",
   "metadata": {},
   "source": [
    "#### Which features are in the dataset?"
   ]
  },
  {
   "cell_type": "markdown",
   "metadata": {},
   "source": [
    "We can see there are 79 different features in the dataset which is a lot to work through. Taking a look at `data_description.txt` gives some insight into the meaning of each feature."
   ]
  },
  {
   "cell_type": "code",
   "execution_count": 222,
   "metadata": {},
   "outputs": [
    {
     "name": "stdout",
     "output_type": "stream",
     "text": [
      "number of features: 79\n"
     ]
    },
    {
     "data": {
      "text/plain": [
       "['MSSubClass',\n",
       " 'MSZoning',\n",
       " 'LotFrontage',\n",
       " 'LotArea',\n",
       " 'Street',\n",
       " 'Alley',\n",
       " 'LotShape',\n",
       " 'LandContour',\n",
       " 'Utilities',\n",
       " 'LotConfig',\n",
       " 'LandSlope',\n",
       " 'Neighborhood',\n",
       " 'Condition1',\n",
       " 'Condition2',\n",
       " 'BldgType',\n",
       " 'HouseStyle',\n",
       " 'OverallQual',\n",
       " 'OverallCond',\n",
       " 'YearBuilt',\n",
       " 'YearRemodAdd',\n",
       " 'RoofStyle',\n",
       " 'RoofMatl',\n",
       " 'Exterior1st',\n",
       " 'Exterior2nd',\n",
       " 'MasVnrType',\n",
       " 'MasVnrArea',\n",
       " 'ExterQual',\n",
       " 'ExterCond',\n",
       " 'Foundation',\n",
       " 'BsmtQual',\n",
       " 'BsmtCond',\n",
       " 'BsmtExposure',\n",
       " 'BsmtFinType1',\n",
       " 'BsmtFinSF1',\n",
       " 'BsmtFinType2',\n",
       " 'BsmtFinSF2',\n",
       " 'BsmtUnfSF',\n",
       " 'TotalBsmtSF',\n",
       " 'Heating',\n",
       " 'HeatingQC',\n",
       " 'CentralAir',\n",
       " 'Electrical',\n",
       " '1stFlrSF',\n",
       " '2ndFlrSF',\n",
       " 'LowQualFinSF',\n",
       " 'GrLivArea',\n",
       " 'BsmtFullBath',\n",
       " 'BsmtHalfBath',\n",
       " 'FullBath',\n",
       " 'HalfBath',\n",
       " 'BedroomAbvGr',\n",
       " 'KitchenAbvGr',\n",
       " 'KitchenQual',\n",
       " 'TotRmsAbvGrd',\n",
       " 'Functional',\n",
       " 'Fireplaces',\n",
       " 'FireplaceQu',\n",
       " 'GarageType',\n",
       " 'GarageYrBlt',\n",
       " 'GarageFinish',\n",
       " 'GarageCars',\n",
       " 'GarageArea',\n",
       " 'GarageQual',\n",
       " 'GarageCond',\n",
       " 'PavedDrive',\n",
       " 'WoodDeckSF',\n",
       " 'OpenPorchSF',\n",
       " 'EnclosedPorch',\n",
       " '3SsnPorch',\n",
       " 'ScreenPorch',\n",
       " 'PoolArea',\n",
       " 'PoolQC',\n",
       " 'Fence',\n",
       " 'MiscFeature',\n",
       " 'MiscVal',\n",
       " 'MoSold',\n",
       " 'YrSold',\n",
       " 'SaleType',\n",
       " 'SaleCondition']"
      ]
     },
     "execution_count": 222,
     "metadata": {},
     "output_type": "execute_result"
    }
   ],
   "source": [
    "print('number of features:', len(df.columns))\n",
    "df.columns.values.tolist()"
   ]
  },
  {
   "cell_type": "markdown",
   "metadata": {},
   "source": [
    "#### Which are categorical?"
   ]
  },
  {
   "cell_type": "markdown",
   "metadata": {},
   "source": [
    "We have a lot of features so we shall create a list of the categorical features incase it is useful later. We have 46 categorical features out of the 79 total features so more than half of the features are of categorical type."
   ]
  },
  {
   "cell_type": "code",
   "execution_count": 223,
   "metadata": {},
   "outputs": [
    {
     "data": {
      "text/plain": [
       "46"
      ]
     },
     "execution_count": 223,
     "metadata": {},
     "output_type": "execute_result"
    }
   ],
   "source": [
    "categorical_features = ['MSSubClass', 'MSZoning', 'Street', 'Alley', 'LotShape', 'LandContour',\n",
    "                        'Utilities', 'LotConfig', 'LandSlope', 'Neighborhood', 'Condition1', \n",
    "                        'Condition2','BldgType', 'HouseStyle', 'OverallQual', 'OverallCond', \n",
    "                        'RoofStyle', 'RoofMatl', 'Exterior1st', 'Exterior2nd', 'MasVnrType', \n",
    "                        'ExterQual', 'ExterCond', 'Foundation', 'BsmtQual', 'BsmtCond', \n",
    "                        'BsmtExposure', 'BsmtFinType1', 'BsmtFinType2', 'Heating', 'HeatingQC', \n",
    "                        'CentralAir',  'Electrical', 'KitchenQual', 'Functional', 'FireplaceQu', \n",
    "                        'GarageType', 'GarageFinish', 'GarageQual', 'GarageCond', 'PavedDrive', \n",
    "                        'PoolQC', 'Fence', 'MiscFeature', 'SaleType', 'SaleCondition']\n",
    "len(categorical_features)"
   ]
  },
  {
   "cell_type": "markdown",
   "metadata": {},
   "source": [
    "It may also be of use to split each categorical feature into nominal and ordinal, as well as seperating the special binary category case as they will need to be dealt with the different ways. We can see a pretty even split of nominal and ordinal features, with CentralAir being the only binary case."
   ]
  },
  {
   "cell_type": "code",
   "execution_count": 224,
   "metadata": {},
   "outputs": [],
   "source": [
    "nominal_categorical_features = ['MSSubClass', 'MSZoning', 'Street', 'Alley', 'LotShape', 'LandContour',\n",
    "                                'LotConfig', 'Neighborhood', 'Condition1', 'Condition2','BldgType', \n",
    "                                'HouseStyle', 'RoofStyle', 'RoofMatl', 'Exterior1st', 'Exterior2nd', \n",
    "                                'MasVnrType', 'Foundation',  'Heating', 'Electrical',    'GarageType',\n",
    "                                'MiscFeature', 'SaleType', 'SaleCondition']\n",
    "\n",
    "ordinal_categorical_features = ['Utilities', 'LandSlope', 'OverallQual', 'OverallCond', 'ExterQual',\n",
    "                                'ExterCond', 'BsmtQual', 'BsmtCond', 'BsmtExposure','BsmtFinType1', \n",
    "                                'BsmtFinType2', 'HeatingQC', 'KitchenQual', 'Functional', 'FireplaceQu',\n",
    "                                'GarageFinish', 'GarageQual', 'GarageCond', 'PavedDrive','PoolQC', 'Fence']\n",
    "\n",
    "binary_categorical_features = ['CentralAir']"
   ]
  },
  {
   "cell_type": "markdown",
   "metadata": {},
   "source": [
    "#### Which are numerical?"
   ]
  },
  {
   "cell_type": "markdown",
   "metadata": {},
   "source": [
    "Likewise with the categorical features there are a lot of numerical features so we shall also create a list of them. We can see there are 33 numerical features, slightly less than the categorical features."
   ]
  },
  {
   "cell_type": "code",
   "execution_count": 225,
   "metadata": {},
   "outputs": [
    {
     "data": {
      "text/plain": [
       "33"
      ]
     },
     "execution_count": 225,
     "metadata": {},
     "output_type": "execute_result"
    }
   ],
   "source": [
    "numerical_features = ['LotFrontage', 'LotArea', 'YearBuilt', 'YearRemodAdd', 'MasVnrArea',\n",
    "                      'BsmtFinSF1', 'BsmtFinSF2', 'BsmtUnfSF', 'TotalBsmtSF', '1stFlrSF',\n",
    "                      '2ndFlrSF', 'LowQualFinSF', 'GrLivArea', 'BsmtFullBath', 'BsmtHalfBath',\n",
    "                      'FullBath', 'HalfBath', 'BedroomAbvGr', 'KitchenAbvGr', 'TotRmsAbvGrd',\n",
    "                      'Fireplaces', 'GarageYrBlt', 'GarageCars', 'GarageArea', 'WoodDeckSF', \n",
    "                      'OpenPorchSF', 'EnclosedPorch', '3SsnPorch', 'ScreenPorch', 'PoolArea',\n",
    "                      'MiscVal', 'MoSold', 'YrSold']\n",
    "len(numerical_features)"
   ]
  },
  {
   "cell_type": "markdown",
   "metadata": {},
   "source": [
    "We can see we have mostly continuous numerical features with a fair amount of discrete data and some timeseries data we will have to deal with."
   ]
  },
  {
   "cell_type": "code",
   "execution_count": 267,
   "metadata": {},
   "outputs": [],
   "source": [
    "discrete_numerical_features = ['BsmtFullBath', 'BsmtHalfBath', 'FullBath', 'HalfBath', \n",
    "                               'BedroomAbvGr', 'KitchenAbvGr', 'TotRmsAbvGrd', 'Fireplaces', \n",
    "                               'GarageCars', ]\n",
    "\n",
    "continuous_numerical_features = ['LotFrontage', 'LotArea',  'MasVnrArea', 'BsmtFinSF1', 'BsmtFinSF2', \n",
    "                                 'BsmtUnfSF', 'TotalBsmtSF', '1stFlrSF', '2ndFlrSF', 'LowQualFinSF', \n",
    "                                 'GrLivArea', 'GarageArea', 'WoodDeckSF', 'OpenPorchSF', 'EnclosedPorch', \n",
    "                                 '3SsnPorch', 'ScreenPorch', 'PoolArea', 'MiscVal']\n",
    "\n",
    "timeseries_numerical_features = ['YearBuilt', 'YearRemodAdd','GarageYrBlt','MoSold', 'YrSold']"
   ]
  },
  {
   "cell_type": "markdown",
   "metadata": {},
   "source": [
    "For completeness we shall make sure the number of features for each type match the number of features in the original dataframe."
   ]
  },
  {
   "cell_type": "code",
   "execution_count": 227,
   "metadata": {},
   "outputs": [
    {
     "data": {
      "text/plain": [
       "True"
      ]
     },
     "execution_count": 227,
     "metadata": {},
     "output_type": "execute_result"
    }
   ],
   "source": [
    "# cjeck if categorical and numerical features are a complete list of the original features\n",
    "all(df[categorical_features + numerical_features].columns.sort_values() == df.columns.sort_values())"
   ]
  },
  {
   "cell_type": "code",
   "execution_count": 228,
   "metadata": {},
   "outputs": [
    {
     "data": {
      "text/plain": [
       "True"
      ]
     },
     "execution_count": 228,
     "metadata": {},
     "output_type": "execute_result"
    }
   ],
   "source": [
    "# combine categorical feature lists and compare with categorical_features\n",
    "com_cat_fts = nominal_categorical_features + ordinal_categorical_features + binary_categorical_features\n",
    "# check if combined categorical feature types are a complete list of the categorical features\n",
    "all(df[com_cat_fts].columns.sort_values() == df[categorical_features].columns.sort_values())"
   ]
  },
  {
   "cell_type": "code",
   "execution_count": 229,
   "metadata": {},
   "outputs": [
    {
     "data": {
      "text/plain": [
       "True"
      ]
     },
     "execution_count": 229,
     "metadata": {},
     "output_type": "execute_result"
    }
   ],
   "source": [
    "# combine numerical feature lists and compare with numerical_features\n",
    "com_num_fts = discrete_numerical_features + continuous_numerical_features + timeseries_numerical_features\n",
    "# check if combined numerical feature types are a complete list of the numerical features\n",
    "all(df[com_num_fts].columns.sort_values() == df[numerical_features].columns.sort_values())"
   ]
  },
  {
   "cell_type": "markdown",
   "metadata": {},
   "source": [
    "#### What are the datatypes of the data?"
   ]
  },
  {
   "cell_type": "markdown",
   "metadata": {},
   "source": [
    "All of the nominal features are of string type."
   ]
  },
  {
   "cell_type": "code",
   "execution_count": 230,
   "metadata": {},
   "outputs": [
    {
     "name": "stdout",
     "output_type": "stream",
     "text": [
      "<class 'pandas.core.frame.DataFrame'>\n",
      "Int64Index: 1459 entries, 1461 to 2919\n",
      "Data columns (total 24 columns):\n",
      " #   Column         Non-Null Count  Dtype \n",
      "---  ------         --------------  ----- \n",
      " 0   MSSubClass     1459 non-null   int64 \n",
      " 1   MSZoning       1455 non-null   object\n",
      " 2   Street         1459 non-null   object\n",
      " 3   Alley          107 non-null    object\n",
      " 4   LotShape       1459 non-null   object\n",
      " 5   LandContour    1459 non-null   object\n",
      " 6   LotConfig      1459 non-null   object\n",
      " 7   Neighborhood   1459 non-null   object\n",
      " 8   Condition1     1459 non-null   object\n",
      " 9   Condition2     1459 non-null   object\n",
      " 10  BldgType       1459 non-null   object\n",
      " 11  HouseStyle     1459 non-null   object\n",
      " 12  RoofStyle      1459 non-null   object\n",
      " 13  RoofMatl       1459 non-null   object\n",
      " 14  Exterior1st    1458 non-null   object\n",
      " 15  Exterior2nd    1458 non-null   object\n",
      " 16  MasVnrType     1443 non-null   object\n",
      " 17  Foundation     1459 non-null   object\n",
      " 18  Heating        1459 non-null   object\n",
      " 19  Electrical     1459 non-null   object\n",
      " 20  GarageType     1383 non-null   object\n",
      " 21  MiscFeature    51 non-null     object\n",
      " 22  SaleType       1458 non-null   object\n",
      " 23  SaleCondition  1459 non-null   object\n",
      "dtypes: int64(1), object(23)\n",
      "memory usage: 285.0+ KB\n"
     ]
    }
   ],
   "source": [
    "df[nominal_categorical_features].info()"
   ]
  },
  {
   "cell_type": "markdown",
   "metadata": {},
   "source": [
    "Most ordinal features are of string type but OverallQual and OverallCond are of integer type."
   ]
  },
  {
   "cell_type": "code",
   "execution_count": 231,
   "metadata": {},
   "outputs": [
    {
     "name": "stdout",
     "output_type": "stream",
     "text": [
      "<class 'pandas.core.frame.DataFrame'>\n",
      "Int64Index: 1459 entries, 1461 to 2919\n",
      "Data columns (total 21 columns):\n",
      " #   Column        Non-Null Count  Dtype \n",
      "---  ------        --------------  ----- \n",
      " 0   Utilities     1457 non-null   object\n",
      " 1   LandSlope     1459 non-null   object\n",
      " 2   OverallQual   1459 non-null   int64 \n",
      " 3   OverallCond   1459 non-null   int64 \n",
      " 4   ExterQual     1459 non-null   object\n",
      " 5   ExterCond     1459 non-null   object\n",
      " 6   BsmtQual      1415 non-null   object\n",
      " 7   BsmtCond      1414 non-null   object\n",
      " 8   BsmtExposure  1415 non-null   object\n",
      " 9   BsmtFinType1  1417 non-null   object\n",
      " 10  BsmtFinType2  1417 non-null   object\n",
      " 11  HeatingQC     1459 non-null   object\n",
      " 12  KitchenQual   1458 non-null   object\n",
      " 13  Functional    1457 non-null   object\n",
      " 14  FireplaceQu   729 non-null    object\n",
      " 15  GarageFinish  1381 non-null   object\n",
      " 16  GarageQual    1381 non-null   object\n",
      " 17  GarageCond    1381 non-null   object\n",
      " 18  PavedDrive    1459 non-null   object\n",
      " 19  PoolQC        3 non-null      object\n",
      " 20  Fence         290 non-null    object\n",
      "dtypes: int64(2), object(19)\n",
      "memory usage: 250.8+ KB\n"
     ]
    }
   ],
   "source": [
    "df[ordinal_categorical_features].info()"
   ]
  },
  {
   "cell_type": "markdown",
   "metadata": {},
   "source": [
    "The one binary feature is of string type, with values of 'Y' or 'N'."
   ]
  },
  {
   "cell_type": "code",
   "execution_count": 232,
   "metadata": {},
   "outputs": [
    {
     "name": "stdout",
     "output_type": "stream",
     "text": [
      "['Y' 'N']\n",
      "<class 'pandas.core.frame.DataFrame'>\n",
      "Int64Index: 1459 entries, 1461 to 2919\n",
      "Data columns (total 1 columns):\n",
      " #   Column      Non-Null Count  Dtype \n",
      "---  ------      --------------  ----- \n",
      " 0   CentralAir  1459 non-null   object\n",
      "dtypes: object(1)\n",
      "memory usage: 22.8+ KB\n"
     ]
    }
   ],
   "source": [
    "print(df['CentralAir'].unique())\n",
    "df[binary_categorical_features].info()"
   ]
  },
  {
   "cell_type": "markdown",
   "metadata": {},
   "source": [
    "Discrete numerical features are a mix of floating point and integer numbers."
   ]
  },
  {
   "cell_type": "code",
   "execution_count": 233,
   "metadata": {},
   "outputs": [
    {
     "name": "stdout",
     "output_type": "stream",
     "text": [
      "<class 'pandas.core.frame.DataFrame'>\n",
      "Int64Index: 1459 entries, 1461 to 2919\n",
      "Data columns (total 9 columns):\n",
      " #   Column        Non-Null Count  Dtype  \n",
      "---  ------        --------------  -----  \n",
      " 0   BsmtFullBath  1457 non-null   float64\n",
      " 1   BsmtHalfBath  1457 non-null   float64\n",
      " 2   FullBath      1459 non-null   int64  \n",
      " 3   HalfBath      1459 non-null   int64  \n",
      " 4   BedroomAbvGr  1459 non-null   int64  \n",
      " 5   KitchenAbvGr  1459 non-null   int64  \n",
      " 6   TotRmsAbvGrd  1459 non-null   int64  \n",
      " 7   Fireplaces    1459 non-null   int64  \n",
      " 8   GarageCars    1458 non-null   float64\n",
      "dtypes: float64(3), int64(6)\n",
      "memory usage: 114.0 KB\n"
     ]
    }
   ],
   "source": [
    "df[discrete_numerical_features].info()"
   ]
  },
  {
   "cell_type": "markdown",
   "metadata": {},
   "source": [
    "The continuous numerical features are also a mix of floating point and integer numbers."
   ]
  },
  {
   "cell_type": "code",
   "execution_count": 234,
   "metadata": {},
   "outputs": [
    {
     "name": "stdout",
     "output_type": "stream",
     "text": [
      "<class 'pandas.core.frame.DataFrame'>\n",
      "Int64Index: 1459 entries, 1461 to 2919\n",
      "Data columns (total 19 columns):\n",
      " #   Column         Non-Null Count  Dtype  \n",
      "---  ------         --------------  -----  \n",
      " 0   LotFrontage    1232 non-null   float64\n",
      " 1   LotArea        1459 non-null   int64  \n",
      " 2   MasVnrArea     1444 non-null   float64\n",
      " 3   BsmtFinSF1     1458 non-null   float64\n",
      " 4   BsmtFinSF2     1458 non-null   float64\n",
      " 5   BsmtUnfSF      1458 non-null   float64\n",
      " 6   TotalBsmtSF    1458 non-null   float64\n",
      " 7   1stFlrSF       1459 non-null   int64  \n",
      " 8   2ndFlrSF       1459 non-null   int64  \n",
      " 9   LowQualFinSF   1459 non-null   int64  \n",
      " 10  GrLivArea      1459 non-null   int64  \n",
      " 11  GarageArea     1458 non-null   float64\n",
      " 12  WoodDeckSF     1459 non-null   int64  \n",
      " 13  OpenPorchSF    1459 non-null   int64  \n",
      " 14  EnclosedPorch  1459 non-null   int64  \n",
      " 15  3SsnPorch      1459 non-null   int64  \n",
      " 16  ScreenPorch    1459 non-null   int64  \n",
      " 17  PoolArea       1459 non-null   int64  \n",
      " 18  MiscVal        1459 non-null   int64  \n",
      "dtypes: float64(7), int64(12)\n",
      "memory usage: 228.0 KB\n"
     ]
    }
   ],
   "source": [
    "df[continuous_numerical_features].info()"
   ]
  },
  {
   "cell_type": "markdown",
   "metadata": {},
   "source": [
    "All timeseries features are of integer type, apart from GargaeYrBlt which is a float."
   ]
  },
  {
   "cell_type": "code",
   "execution_count": 235,
   "metadata": {},
   "outputs": [
    {
     "name": "stdout",
     "output_type": "stream",
     "text": [
      "<class 'pandas.core.frame.DataFrame'>\n",
      "Int64Index: 1459 entries, 1461 to 2919\n",
      "Data columns (total 5 columns):\n",
      " #   Column        Non-Null Count  Dtype  \n",
      "---  ------        --------------  -----  \n",
      " 0   YearBuilt     1459 non-null   int64  \n",
      " 1   YearRemodAdd  1459 non-null   int64  \n",
      " 2   GarageYrBlt   1381 non-null   float64\n",
      " 3   MoSold        1459 non-null   int64  \n",
      " 4   YrSold        1459 non-null   int64  \n",
      "dtypes: float64(1), int64(4)\n",
      "memory usage: 68.4 KB\n"
     ]
    }
   ],
   "source": [
    "df[timeseries_numerical_features].info()"
   ]
  },
  {
   "cell_type": "markdown",
   "metadata": {},
   "source": [
    "#### Which columns could contain multiple features?\n",
    "\n",
    "Looking at the unique values for the categorical features the data seems to be very clean. Each entry has a single category and can map to a category in `data_description.txt`. As for the numerical categories, as they are all int of float type they must only contain one value."
   ]
  },
  {
   "cell_type": "code",
   "execution_count": 236,
   "metadata": {},
   "outputs": [
    {
     "name": "stdout",
     "output_type": "stream",
     "text": [
      "MSSubClass [ 20  60 120 160  80  30  50  90  85 190  45  70  75 180  40 150] \n",
      "\n",
      "MSZoning ['RH' 'RL' 'RM' 'FV' 'C (all)' nan] \n",
      "\n",
      "Street ['Pave' 'Grvl'] \n",
      "\n",
      "Alley [nan 'Pave' 'Grvl'] \n",
      "\n",
      "LotShape ['Reg' 'IR1' 'IR2' 'IR3'] \n",
      "\n",
      "LandContour ['Lvl' 'HLS' 'Bnk' 'Low'] \n",
      "\n",
      "Utilities ['AllPub' nan] \n",
      "\n",
      "LotConfig ['Inside' 'Corner' 'FR2' 'CulDSac' 'FR3'] \n",
      "\n",
      "LandSlope ['Gtl' 'Mod' 'Sev'] \n",
      "\n",
      "Neighborhood ['NAmes' 'Gilbert' 'StoneBr' 'BrDale' 'NPkVill' 'NridgHt' 'Blmngtn'\n",
      " 'NoRidge' 'Somerst' 'SawyerW' 'Sawyer' 'NWAmes' 'OldTown' 'BrkSide'\n",
      " 'ClearCr' 'SWISU' 'Edwards' 'CollgCr' 'Crawfor' 'Blueste' 'IDOTRR'\n",
      " 'Mitchel' 'Timber' 'MeadowV' 'Veenker'] \n",
      "\n",
      "Condition1 ['Feedr' 'Norm' 'PosN' 'RRNe' 'Artery' 'RRNn' 'PosA' 'RRAn' 'RRAe'] \n",
      "\n",
      "Condition2 ['Norm' 'Feedr' 'PosA' 'PosN' 'Artery'] \n",
      "\n",
      "BldgType ['1Fam' 'TwnhsE' 'Twnhs' 'Duplex' '2fmCon'] \n",
      "\n",
      "HouseStyle ['1Story' '2Story' 'SLvl' '1.5Fin' 'SFoyer' '2.5Unf' '1.5Unf'] \n",
      "\n",
      "OverallQual [ 5  6  8  7  4  9  2  3 10  1] \n",
      "\n",
      "OverallCond [6 5 7 8 2 9 3 4 1] \n",
      "\n",
      "RoofStyle ['Gable' 'Hip' 'Gambrel' 'Flat' 'Mansard' 'Shed'] \n",
      "\n",
      "RoofMatl ['CompShg' 'Tar&Grv' 'WdShake' 'WdShngl'] \n",
      "\n",
      "Exterior1st ['VinylSd' 'Wd Sdng' 'HdBoard' 'Plywood' 'MetalSd' 'CemntBd' 'WdShing'\n",
      " 'BrkFace' 'AsbShng' 'BrkComm' 'Stucco' 'AsphShn' nan 'CBlock'] \n",
      "\n",
      "Exterior2nd ['VinylSd' 'Wd Sdng' 'HdBoard' 'Plywood' 'MetalSd' 'Brk Cmn' 'CmentBd'\n",
      " 'ImStucc' 'Wd Shng' 'AsbShng' 'Stucco' 'CBlock' 'BrkFace' 'AsphShn' nan\n",
      " 'Stone'] \n",
      "\n",
      "MasVnrType ['None' 'BrkFace' 'Stone' 'BrkCmn' nan] \n",
      "\n",
      "ExterQual ['TA' 'Gd' 'Ex' 'Fa'] \n",
      "\n",
      "ExterCond ['TA' 'Gd' 'Fa' 'Po' 'Ex'] \n",
      "\n",
      "Foundation ['CBlock' 'PConc' 'BrkTil' 'Stone' 'Slab' 'Wood'] \n",
      "\n",
      "BsmtQual ['TA' 'Gd' 'Ex' 'Fa' nan] \n",
      "\n",
      "BsmtCond ['TA' 'Po' 'Fa' 'Gd' nan] \n",
      "\n",
      "BsmtExposure ['No' 'Gd' 'Mn' 'Av' nan] \n",
      "\n",
      "BsmtFinType1 ['Rec' 'ALQ' 'GLQ' 'Unf' 'BLQ' 'LwQ' nan] \n",
      "\n",
      "BsmtFinType2 ['LwQ' 'Unf' 'Rec' 'BLQ' 'GLQ' 'ALQ' nan] \n",
      "\n",
      "Heating ['GasA' 'GasW' 'Grav' 'Wall'] \n",
      "\n",
      "HeatingQC ['TA' 'Gd' 'Ex' 'Fa' 'Po'] \n",
      "\n",
      "CentralAir ['Y' 'N'] \n",
      "\n",
      "Electrical ['SBrkr' 'FuseA' 'FuseF' 'FuseP'] \n",
      "\n",
      "KitchenQual ['TA' 'Gd' 'Ex' 'Fa' nan] \n",
      "\n",
      "Functional ['Typ' 'Min2' 'Min1' 'Mod' 'Maj1' 'Sev' 'Maj2' nan] \n",
      "\n",
      "FireplaceQu [nan 'TA' 'Gd' 'Po' 'Fa' 'Ex'] \n",
      "\n",
      "GarageType ['Attchd' 'Detchd' 'BuiltIn' nan 'Basment' '2Types' 'CarPort'] \n",
      "\n",
      "GarageFinish ['Unf' 'Fin' 'RFn' nan] \n",
      "\n",
      "GarageQual ['TA' nan 'Fa' 'Gd' 'Po'] \n",
      "\n",
      "GarageCond ['TA' nan 'Fa' 'Gd' 'Po' 'Ex'] \n",
      "\n",
      "PavedDrive ['Y' 'N' 'P'] \n",
      "\n",
      "PoolQC [nan 'Ex' 'Gd'] \n",
      "\n",
      "Fence ['MnPrv' nan 'GdPrv' 'GdWo' 'MnWw'] \n",
      "\n",
      "MiscFeature [nan 'Gar2' 'Shed' 'Othr'] \n",
      "\n",
      "SaleType ['WD' 'COD' 'New' 'ConLD' 'Oth' 'Con' 'ConLw' 'ConLI' 'CWD' nan] \n",
      "\n",
      "SaleCondition ['Normal' 'Partial' 'Abnorml' 'Family' 'Alloca' 'AdjLand'] \n",
      "\n"
     ]
    }
   ],
   "source": [
    "for col in df[categorical_features]:\n",
    "    print(col, (df[col].unique()), '\\n')"
   ]
  },
  {
   "cell_type": "markdown",
   "metadata": {},
   "source": [
    "#### Which features may contain errors?\n",
    "\n",
    "From the unique values above we can see that the categorical features are free of errors and typos apart from some values being slightly different to that listed in `data_description.txt`, such as the `MSZoning` feature having values of `c (all)` instead of `c` - but as there are only instances of `c (all)` and no instances of `c` this does not matter.\n",
    "\n",
    "Numerical data is all of int or float type so errors of this kind cannot occur but we shall look for outliers in the data."
   ]
  },
  {
   "cell_type": "markdown",
   "metadata": {},
   "source": [
    "#### Which features contain outliers?"
   ]
  },
  {
   "cell_type": "markdown",
   "metadata": {},
   "source": [
    "Looking at the decrete values they seem to have some outliers which we need to make sure we account for in modelling, but no exceedingly large ones which will need to be removed."
   ]
  },
  {
   "cell_type": "code",
   "execution_count": 237,
   "metadata": {},
   "outputs": [
    {
     "data": {
      "text/html": [
       "<div>\n",
       "<style scoped>\n",
       "    .dataframe tbody tr th:only-of-type {\n",
       "        vertical-align: middle;\n",
       "    }\n",
       "\n",
       "    .dataframe tbody tr th {\n",
       "        vertical-align: top;\n",
       "    }\n",
       "\n",
       "    .dataframe thead th {\n",
       "        text-align: right;\n",
       "    }\n",
       "</style>\n",
       "<table border=\"1\" class=\"dataframe\">\n",
       "  <thead>\n",
       "    <tr style=\"text-align: right;\">\n",
       "      <th></th>\n",
       "      <th>BsmtFullBath</th>\n",
       "      <th>BsmtHalfBath</th>\n",
       "      <th>FullBath</th>\n",
       "      <th>HalfBath</th>\n",
       "      <th>BedroomAbvGr</th>\n",
       "      <th>KitchenAbvGr</th>\n",
       "      <th>TotRmsAbvGrd</th>\n",
       "      <th>Fireplaces</th>\n",
       "      <th>GarageCars</th>\n",
       "    </tr>\n",
       "  </thead>\n",
       "  <tbody>\n",
       "    <tr>\n",
       "      <th>count</th>\n",
       "      <td>1457.000000</td>\n",
       "      <td>1457.000000</td>\n",
       "      <td>1459.000000</td>\n",
       "      <td>1459.000000</td>\n",
       "      <td>1459.000000</td>\n",
       "      <td>1459.000000</td>\n",
       "      <td>1459.000000</td>\n",
       "      <td>1459.00000</td>\n",
       "      <td>1458.000000</td>\n",
       "    </tr>\n",
       "    <tr>\n",
       "      <th>mean</th>\n",
       "      <td>0.434454</td>\n",
       "      <td>0.065202</td>\n",
       "      <td>1.570939</td>\n",
       "      <td>0.377656</td>\n",
       "      <td>2.854010</td>\n",
       "      <td>1.042495</td>\n",
       "      <td>6.385195</td>\n",
       "      <td>0.58122</td>\n",
       "      <td>1.766118</td>\n",
       "    </tr>\n",
       "    <tr>\n",
       "      <th>std</th>\n",
       "      <td>0.530648</td>\n",
       "      <td>0.252468</td>\n",
       "      <td>0.555190</td>\n",
       "      <td>0.503017</td>\n",
       "      <td>0.829788</td>\n",
       "      <td>0.208472</td>\n",
       "      <td>1.508895</td>\n",
       "      <td>0.64742</td>\n",
       "      <td>0.775945</td>\n",
       "    </tr>\n",
       "    <tr>\n",
       "      <th>min</th>\n",
       "      <td>0.000000</td>\n",
       "      <td>0.000000</td>\n",
       "      <td>0.000000</td>\n",
       "      <td>0.000000</td>\n",
       "      <td>0.000000</td>\n",
       "      <td>0.000000</td>\n",
       "      <td>3.000000</td>\n",
       "      <td>0.00000</td>\n",
       "      <td>0.000000</td>\n",
       "    </tr>\n",
       "    <tr>\n",
       "      <th>25%</th>\n",
       "      <td>0.000000</td>\n",
       "      <td>0.000000</td>\n",
       "      <td>1.000000</td>\n",
       "      <td>0.000000</td>\n",
       "      <td>2.000000</td>\n",
       "      <td>1.000000</td>\n",
       "      <td>5.000000</td>\n",
       "      <td>0.00000</td>\n",
       "      <td>1.000000</td>\n",
       "    </tr>\n",
       "    <tr>\n",
       "      <th>50%</th>\n",
       "      <td>0.000000</td>\n",
       "      <td>0.000000</td>\n",
       "      <td>2.000000</td>\n",
       "      <td>0.000000</td>\n",
       "      <td>3.000000</td>\n",
       "      <td>1.000000</td>\n",
       "      <td>6.000000</td>\n",
       "      <td>0.00000</td>\n",
       "      <td>2.000000</td>\n",
       "    </tr>\n",
       "    <tr>\n",
       "      <th>75%</th>\n",
       "      <td>1.000000</td>\n",
       "      <td>0.000000</td>\n",
       "      <td>2.000000</td>\n",
       "      <td>1.000000</td>\n",
       "      <td>3.000000</td>\n",
       "      <td>1.000000</td>\n",
       "      <td>7.000000</td>\n",
       "      <td>1.00000</td>\n",
       "      <td>2.000000</td>\n",
       "    </tr>\n",
       "    <tr>\n",
       "      <th>max</th>\n",
       "      <td>3.000000</td>\n",
       "      <td>2.000000</td>\n",
       "      <td>4.000000</td>\n",
       "      <td>2.000000</td>\n",
       "      <td>6.000000</td>\n",
       "      <td>2.000000</td>\n",
       "      <td>15.000000</td>\n",
       "      <td>4.00000</td>\n",
       "      <td>5.000000</td>\n",
       "    </tr>\n",
       "  </tbody>\n",
       "</table>\n",
       "</div>"
      ],
      "text/plain": [
       "       BsmtFullBath  BsmtHalfBath     FullBath     HalfBath  BedroomAbvGr  \\\n",
       "count   1457.000000   1457.000000  1459.000000  1459.000000   1459.000000   \n",
       "mean       0.434454      0.065202     1.570939     0.377656      2.854010   \n",
       "std        0.530648      0.252468     0.555190     0.503017      0.829788   \n",
       "min        0.000000      0.000000     0.000000     0.000000      0.000000   \n",
       "25%        0.000000      0.000000     1.000000     0.000000      2.000000   \n",
       "50%        0.000000      0.000000     2.000000     0.000000      3.000000   \n",
       "75%        1.000000      0.000000     2.000000     1.000000      3.000000   \n",
       "max        3.000000      2.000000     4.000000     2.000000      6.000000   \n",
       "\n",
       "       KitchenAbvGr  TotRmsAbvGrd  Fireplaces   GarageCars  \n",
       "count   1459.000000   1459.000000  1459.00000  1458.000000  \n",
       "mean       1.042495      6.385195     0.58122     1.766118  \n",
       "std        0.208472      1.508895     0.64742     0.775945  \n",
       "min        0.000000      3.000000     0.00000     0.000000  \n",
       "25%        1.000000      5.000000     0.00000     1.000000  \n",
       "50%        1.000000      6.000000     0.00000     2.000000  \n",
       "75%        1.000000      7.000000     1.00000     2.000000  \n",
       "max        2.000000     15.000000     4.00000     5.000000  "
      ]
     },
     "execution_count": 237,
     "metadata": {},
     "output_type": "execute_result"
    }
   ],
   "source": [
    "df[discrete_numerical_features].describe()"
   ]
  },
  {
   "cell_type": "code",
   "execution_count": 238,
   "metadata": {},
   "outputs": [
    {
     "data": {
      "text/plain": [
       "<AxesSubplot:>"
      ]
     },
     "execution_count": 238,
     "metadata": {},
     "output_type": "execute_result"
    },
    {
     "data": {
      "image/png": "[encoded data removed]",
      "text/plain": [
       "<Figure size 1080x720 with 1 Axes>"
      ]
     },
     "metadata": {
      "needs_background": "light"
     },
     "output_type": "display_data"
    }
   ],
   "source": [
    "df[discrete_numerical_features].boxplot(figsize=(15,10))"
   ]
  },
  {
   "cell_type": "markdown",
   "metadata": {},
   "source": [
    "We can see a lot of outliers in the LotArea. This is likely due to the  right-skew of this data - houses only get so small and so most houses will be in a similar range but a large house could have massive amounts of land (farms, estates etc.) and so the right side will trail massively. We will need to account for this skew but these do not seem like errors.\n",
    "\n",
    "We see similar outliers with the MiscVal feature, this is likely due to any features of a house labelled as miscellaneous will be rare and so any non-null values for this feature will be outliers. We shall keep the outliers but ensure we account for them later on."
   ]
  },
  {
   "cell_type": "code",
   "execution_count": 239,
   "metadata": {
    "scrolled": true
   },
   "outputs": [
    {
     "data": {
      "text/html": [
       "<div>\n",
       "<style scoped>\n",
       "    .dataframe tbody tr th:only-of-type {\n",
       "        vertical-align: middle;\n",
       "    }\n",
       "\n",
       "    .dataframe tbody tr th {\n",
       "        vertical-align: top;\n",
       "    }\n",
       "\n",
       "    .dataframe thead th {\n",
       "        text-align: right;\n",
       "    }\n",
       "</style>\n",
       "<table border=\"1\" class=\"dataframe\">\n",
       "  <thead>\n",
       "    <tr style=\"text-align: right;\">\n",
       "      <th></th>\n",
       "      <th>LotFrontage</th>\n",
       "      <th>LotArea</th>\n",
       "      <th>MasVnrArea</th>\n",
       "      <th>BsmtFinSF1</th>\n",
       "      <th>BsmtFinSF2</th>\n",
       "      <th>BsmtUnfSF</th>\n",
       "      <th>TotalBsmtSF</th>\n",
       "      <th>1stFlrSF</th>\n",
       "      <th>2ndFlrSF</th>\n",
       "      <th>LowQualFinSF</th>\n",
       "      <th>GrLivArea</th>\n",
       "      <th>GarageArea</th>\n",
       "      <th>WoodDeckSF</th>\n",
       "      <th>OpenPorchSF</th>\n",
       "      <th>EnclosedPorch</th>\n",
       "      <th>3SsnPorch</th>\n",
       "      <th>ScreenPorch</th>\n",
       "      <th>PoolArea</th>\n",
       "      <th>MiscVal</th>\n",
       "    </tr>\n",
       "  </thead>\n",
       "  <tbody>\n",
       "    <tr>\n",
       "      <th>count</th>\n",
       "      <td>1232.000000</td>\n",
       "      <td>1459.000000</td>\n",
       "      <td>1444.000000</td>\n",
       "      <td>1458.000000</td>\n",
       "      <td>1458.000000</td>\n",
       "      <td>1458.000000</td>\n",
       "      <td>1458.000000</td>\n",
       "      <td>1459.000000</td>\n",
       "      <td>1459.000000</td>\n",
       "      <td>1459.000000</td>\n",
       "      <td>1459.000000</td>\n",
       "      <td>1458.000000</td>\n",
       "      <td>1459.000000</td>\n",
       "      <td>1459.000000</td>\n",
       "      <td>1459.000000</td>\n",
       "      <td>1459.000000</td>\n",
       "      <td>1459.000000</td>\n",
       "      <td>1459.000000</td>\n",
       "      <td>1459.000000</td>\n",
       "    </tr>\n",
       "    <tr>\n",
       "      <th>mean</th>\n",
       "      <td>68.580357</td>\n",
       "      <td>9819.161069</td>\n",
       "      <td>100.709141</td>\n",
       "      <td>439.203704</td>\n",
       "      <td>52.619342</td>\n",
       "      <td>554.294925</td>\n",
       "      <td>1046.117970</td>\n",
       "      <td>1156.534613</td>\n",
       "      <td>325.967786</td>\n",
       "      <td>3.543523</td>\n",
       "      <td>1486.045922</td>\n",
       "      <td>472.768861</td>\n",
       "      <td>93.174777</td>\n",
       "      <td>48.313914</td>\n",
       "      <td>24.243317</td>\n",
       "      <td>1.794380</td>\n",
       "      <td>17.064428</td>\n",
       "      <td>1.744345</td>\n",
       "      <td>58.167923</td>\n",
       "    </tr>\n",
       "    <tr>\n",
       "      <th>std</th>\n",
       "      <td>22.376841</td>\n",
       "      <td>4955.517327</td>\n",
       "      <td>177.625900</td>\n",
       "      <td>455.268042</td>\n",
       "      <td>176.753926</td>\n",
       "      <td>437.260486</td>\n",
       "      <td>442.898624</td>\n",
       "      <td>398.165820</td>\n",
       "      <td>420.610226</td>\n",
       "      <td>44.043251</td>\n",
       "      <td>485.566099</td>\n",
       "      <td>217.048611</td>\n",
       "      <td>127.744882</td>\n",
       "      <td>68.883364</td>\n",
       "      <td>67.227765</td>\n",
       "      <td>20.207842</td>\n",
       "      <td>56.609763</td>\n",
       "      <td>30.491646</td>\n",
       "      <td>630.806978</td>\n",
       "    </tr>\n",
       "    <tr>\n",
       "      <th>min</th>\n",
       "      <td>21.000000</td>\n",
       "      <td>1470.000000</td>\n",
       "      <td>0.000000</td>\n",
       "      <td>0.000000</td>\n",
       "      <td>0.000000</td>\n",
       "      <td>0.000000</td>\n",
       "      <td>0.000000</td>\n",
       "      <td>407.000000</td>\n",
       "      <td>0.000000</td>\n",
       "      <td>0.000000</td>\n",
       "      <td>407.000000</td>\n",
       "      <td>0.000000</td>\n",
       "      <td>0.000000</td>\n",
       "      <td>0.000000</td>\n",
       "      <td>0.000000</td>\n",
       "      <td>0.000000</td>\n",
       "      <td>0.000000</td>\n",
       "      <td>0.000000</td>\n",
       "      <td>0.000000</td>\n",
       "    </tr>\n",
       "    <tr>\n",
       "      <th>25%</th>\n",
       "      <td>58.000000</td>\n",
       "      <td>7391.000000</td>\n",
       "      <td>0.000000</td>\n",
       "      <td>0.000000</td>\n",
       "      <td>0.000000</td>\n",
       "      <td>219.250000</td>\n",
       "      <td>784.000000</td>\n",
       "      <td>873.500000</td>\n",
       "      <td>0.000000</td>\n",
       "      <td>0.000000</td>\n",
       "      <td>1117.500000</td>\n",
       "      <td>318.000000</td>\n",
       "      <td>0.000000</td>\n",
       "      <td>0.000000</td>\n",
       "      <td>0.000000</td>\n",
       "      <td>0.000000</td>\n",
       "      <td>0.000000</td>\n",
       "      <td>0.000000</td>\n",
       "      <td>0.000000</td>\n",
       "    </tr>\n",
       "    <tr>\n",
       "      <th>50%</th>\n",
       "      <td>67.000000</td>\n",
       "      <td>9399.000000</td>\n",
       "      <td>0.000000</td>\n",
       "      <td>350.500000</td>\n",
       "      <td>0.000000</td>\n",
       "      <td>460.000000</td>\n",
       "      <td>988.000000</td>\n",
       "      <td>1079.000000</td>\n",
       "      <td>0.000000</td>\n",
       "      <td>0.000000</td>\n",
       "      <td>1432.000000</td>\n",
       "      <td>480.000000</td>\n",
       "      <td>0.000000</td>\n",
       "      <td>28.000000</td>\n",
       "      <td>0.000000</td>\n",
       "      <td>0.000000</td>\n",
       "      <td>0.000000</td>\n",
       "      <td>0.000000</td>\n",
       "      <td>0.000000</td>\n",
       "    </tr>\n",
       "    <tr>\n",
       "      <th>75%</th>\n",
       "      <td>80.000000</td>\n",
       "      <td>11517.500000</td>\n",
       "      <td>164.000000</td>\n",
       "      <td>753.500000</td>\n",
       "      <td>0.000000</td>\n",
       "      <td>797.750000</td>\n",
       "      <td>1305.000000</td>\n",
       "      <td>1382.500000</td>\n",
       "      <td>676.000000</td>\n",
       "      <td>0.000000</td>\n",
       "      <td>1721.000000</td>\n",
       "      <td>576.000000</td>\n",
       "      <td>168.000000</td>\n",
       "      <td>72.000000</td>\n",
       "      <td>0.000000</td>\n",
       "      <td>0.000000</td>\n",
       "      <td>0.000000</td>\n",
       "      <td>0.000000</td>\n",
       "      <td>0.000000</td>\n",
       "    </tr>\n",
       "    <tr>\n",
       "      <th>max</th>\n",
       "      <td>200.000000</td>\n",
       "      <td>56600.000000</td>\n",
       "      <td>1290.000000</td>\n",
       "      <td>4010.000000</td>\n",
       "      <td>1526.000000</td>\n",
       "      <td>2140.000000</td>\n",
       "      <td>5095.000000</td>\n",
       "      <td>5095.000000</td>\n",
       "      <td>1862.000000</td>\n",
       "      <td>1064.000000</td>\n",
       "      <td>5095.000000</td>\n",
       "      <td>1488.000000</td>\n",
       "      <td>1424.000000</td>\n",
       "      <td>742.000000</td>\n",
       "      <td>1012.000000</td>\n",
       "      <td>360.000000</td>\n",
       "      <td>576.000000</td>\n",
       "      <td>800.000000</td>\n",
       "      <td>17000.000000</td>\n",
       "    </tr>\n",
       "  </tbody>\n",
       "</table>\n",
       "</div>"
      ],
      "text/plain": [
       "       LotFrontage       LotArea   MasVnrArea   BsmtFinSF1   BsmtFinSF2  \\\n",
       "count  1232.000000   1459.000000  1444.000000  1458.000000  1458.000000   \n",
       "mean     68.580357   9819.161069   100.709141   439.203704    52.619342   \n",
       "std      22.376841   4955.517327   177.625900   455.268042   176.753926   \n",
       "min      21.000000   1470.000000     0.000000     0.000000     0.000000   \n",
       "25%      58.000000   7391.000000     0.000000     0.000000     0.000000   \n",
       "50%      67.000000   9399.000000     0.000000   350.500000     0.000000   \n",
       "75%      80.000000  11517.500000   164.000000   753.500000     0.000000   \n",
       "max     200.000000  56600.000000  1290.000000  4010.000000  1526.000000   \n",
       "\n",
       "         BsmtUnfSF  TotalBsmtSF     1stFlrSF     2ndFlrSF  LowQualFinSF  \\\n",
       "count  1458.000000  1458.000000  1459.000000  1459.000000   1459.000000   \n",
       "mean    554.294925  1046.117970  1156.534613   325.967786      3.543523   \n",
       "std     437.260486   442.898624   398.165820   420.610226     44.043251   \n",
       "min       0.000000     0.000000   407.000000     0.000000      0.000000   \n",
       "25%     219.250000   784.000000   873.500000     0.000000      0.000000   \n",
       "50%     460.000000   988.000000  1079.000000     0.000000      0.000000   \n",
       "75%     797.750000  1305.000000  1382.500000   676.000000      0.000000   \n",
       "max    2140.000000  5095.000000  5095.000000  1862.000000   1064.000000   \n",
       "\n",
       "         GrLivArea   GarageArea   WoodDeckSF  OpenPorchSF  EnclosedPorch  \\\n",
       "count  1459.000000  1458.000000  1459.000000  1459.000000    1459.000000   \n",
       "mean   1486.045922   472.768861    93.174777    48.313914      24.243317   \n",
       "std     485.566099   217.048611   127.744882    68.883364      67.227765   \n",
       "min     407.000000     0.000000     0.000000     0.000000       0.000000   \n",
       "25%    1117.500000   318.000000     0.000000     0.000000       0.000000   \n",
       "50%    1432.000000   480.000000     0.000000    28.000000       0.000000   \n",
       "75%    1721.000000   576.000000   168.000000    72.000000       0.000000   \n",
       "max    5095.000000  1488.000000  1424.000000   742.000000    1012.000000   \n",
       "\n",
       "         3SsnPorch  ScreenPorch     PoolArea       MiscVal  \n",
       "count  1459.000000  1459.000000  1459.000000   1459.000000  \n",
       "mean      1.794380    17.064428     1.744345     58.167923  \n",
       "std      20.207842    56.609763    30.491646    630.806978  \n",
       "min       0.000000     0.000000     0.000000      0.000000  \n",
       "25%       0.000000     0.000000     0.000000      0.000000  \n",
       "50%       0.000000     0.000000     0.000000      0.000000  \n",
       "75%       0.000000     0.000000     0.000000      0.000000  \n",
       "max     360.000000   576.000000   800.000000  17000.000000  "
      ]
     },
     "execution_count": 239,
     "metadata": {},
     "output_type": "execute_result"
    }
   ],
   "source": [
    "df[continuous_numerical_features].describe()"
   ]
  },
  {
   "cell_type": "code",
   "execution_count": 241,
   "metadata": {},
   "outputs": [
    {
     "data": {
      "text/plain": [
       "<AxesSubplot:>"
      ]
     },
     "execution_count": 241,
     "metadata": {},
     "output_type": "execute_result"
    },
    {
     "data": {
      "image/png": "[encoded data removed]",
      "text/plain": [
       "<Figure size 1080x720 with 1 Axes>"
      ]
     },
     "metadata": {
      "needs_background": "light"
     },
     "output_type": "display_data"
    }
   ],
   "source": [
    "df[continuous_numerical_features].boxplot(figsize=(15,10), rot=90)"
   ]
  },
  {
   "cell_type": "markdown",
   "metadata": {},
   "source": [
    "It is hard to see the other boxplots so we shall remove the above features to get a better view of the remaining conintuous data.\n",
    "\n",
    "Looking at the remaining features we see a similar skew to the LotArea feature, with a right-handed trail due to a few larger houses having a large number of bedrooms, kitchens etc. and smaller houses still having 0,1,2...\n",
    "\n",
    "Interestingly 0 values for LotFrontage and TotalBsmtSF appear as outliers, but these will just be due to properties having a door directly on the street or not having a basement, although it is suprising that most houses have a basement and not many have no front garden?"
   ]
  },
  {
   "cell_type": "code",
   "execution_count": 277,
   "metadata": {
    "scrolled": false
   },
   "outputs": [
    {
     "data": {
      "text/plain": [
       "<AxesSubplot:>"
      ]
     },
     "execution_count": 277,
     "metadata": {},
     "output_type": "execute_result"
    },
    {
     "data": {
      "image/png": "[encoded data removed]",
      "text/plain": [
       "<Figure size 1080x720 with 1 Axes>"
      ]
     },
     "metadata": {
      "needs_background": "light"
     },
     "output_type": "display_data"
    }
   ],
   "source": [
    "less_cont_features = continuous_numerical_features.copy()\n",
    "less_cont_features.remove('LotArea')\n",
    "less_cont_features.remove('MiscVal')\n",
    "df[less_cont_features].boxplot(figsize=(15,10), rot=90)"
   ]
  },
  {
   "cell_type": "markdown",
   "metadata": {},
   "source": [
    "For the timeseries data it makes we see a max value for GarageYrBuilt of 2207 - impossible in the year 2020, so this error must be corrected. It may make sense to replace this value with 2007 as it is probably a typo.\n",
    "\n",
    "From here it makes sense to view the boxplots for months and years seperately."
   ]
  },
  {
   "cell_type": "code",
   "execution_count": 184,
   "metadata": {
    "scrolled": true
   },
   "outputs": [
    {
     "data": {
      "text/html": [
       "<div>\n",
       "<style scoped>\n",
       "    .dataframe tbody tr th:only-of-type {\n",
       "        vertical-align: middle;\n",
       "    }\n",
       "\n",
       "    .dataframe tbody tr th {\n",
       "        vertical-align: top;\n",
       "    }\n",
       "\n",
       "    .dataframe thead th {\n",
       "        text-align: right;\n",
       "    }\n",
       "</style>\n",
       "<table border=\"1\" class=\"dataframe\">\n",
       "  <thead>\n",
       "    <tr style=\"text-align: right;\">\n",
       "      <th></th>\n",
       "      <th>YearBuilt</th>\n",
       "      <th>YearRemodAdd</th>\n",
       "      <th>GarageYrBlt</th>\n",
       "      <th>MoSold</th>\n",
       "      <th>YrSold</th>\n",
       "    </tr>\n",
       "  </thead>\n",
       "  <tbody>\n",
       "    <tr>\n",
       "      <th>count</th>\n",
       "      <td>1459.000000</td>\n",
       "      <td>1459.000000</td>\n",
       "      <td>1381.000000</td>\n",
       "      <td>1459.000000</td>\n",
       "      <td>1459.000000</td>\n",
       "    </tr>\n",
       "    <tr>\n",
       "      <th>mean</th>\n",
       "      <td>1971.357779</td>\n",
       "      <td>1983.662783</td>\n",
       "      <td>1977.721217</td>\n",
       "      <td>6.104181</td>\n",
       "      <td>2007.769705</td>\n",
       "    </tr>\n",
       "    <tr>\n",
       "      <th>std</th>\n",
       "      <td>30.390071</td>\n",
       "      <td>21.130467</td>\n",
       "      <td>26.431175</td>\n",
       "      <td>2.722432</td>\n",
       "      <td>1.301740</td>\n",
       "    </tr>\n",
       "    <tr>\n",
       "      <th>min</th>\n",
       "      <td>1879.000000</td>\n",
       "      <td>1950.000000</td>\n",
       "      <td>1895.000000</td>\n",
       "      <td>1.000000</td>\n",
       "      <td>2006.000000</td>\n",
       "    </tr>\n",
       "    <tr>\n",
       "      <th>25%</th>\n",
       "      <td>1953.000000</td>\n",
       "      <td>1963.000000</td>\n",
       "      <td>1959.000000</td>\n",
       "      <td>4.000000</td>\n",
       "      <td>2007.000000</td>\n",
       "    </tr>\n",
       "    <tr>\n",
       "      <th>50%</th>\n",
       "      <td>1973.000000</td>\n",
       "      <td>1992.000000</td>\n",
       "      <td>1979.000000</td>\n",
       "      <td>6.000000</td>\n",
       "      <td>2008.000000</td>\n",
       "    </tr>\n",
       "    <tr>\n",
       "      <th>75%</th>\n",
       "      <td>2001.000000</td>\n",
       "      <td>2004.000000</td>\n",
       "      <td>2002.000000</td>\n",
       "      <td>8.000000</td>\n",
       "      <td>2009.000000</td>\n",
       "    </tr>\n",
       "    <tr>\n",
       "      <th>max</th>\n",
       "      <td>2010.000000</td>\n",
       "      <td>2010.000000</td>\n",
       "      <td>2207.000000</td>\n",
       "      <td>12.000000</td>\n",
       "      <td>2010.000000</td>\n",
       "    </tr>\n",
       "  </tbody>\n",
       "</table>\n",
       "</div>"
      ],
      "text/plain": [
       "         YearBuilt  YearRemodAdd  GarageYrBlt       MoSold       YrSold\n",
       "count  1459.000000   1459.000000  1381.000000  1459.000000  1459.000000\n",
       "mean   1971.357779   1983.662783  1977.721217     6.104181  2007.769705\n",
       "std      30.390071     21.130467    26.431175     2.722432     1.301740\n",
       "min    1879.000000   1950.000000  1895.000000     1.000000  2006.000000\n",
       "25%    1953.000000   1963.000000  1959.000000     4.000000  2007.000000\n",
       "50%    1973.000000   1992.000000  1979.000000     6.000000  2008.000000\n",
       "75%    2001.000000   2004.000000  2002.000000     8.000000  2009.000000\n",
       "max    2010.000000   2010.000000  2207.000000    12.000000  2010.000000"
      ]
     },
     "execution_count": 184,
     "metadata": {},
     "output_type": "execute_result"
    }
   ],
   "source": [
    "df[timeseries_numerical_features].describe()"
   ]
  },
  {
   "cell_type": "markdown",
   "metadata": {},
   "source": [
    "We can see the timeseries data is relatively free of outliers, with YearBuilt having a large left-skew and some outlying data points due to a small number of old houses which is as expected."
   ]
  },
  {
   "cell_type": "code",
   "execution_count": 298,
   "metadata": {},
   "outputs": [
    {
     "data": {
      "text/plain": [
       "<AxesSubplot:>"
      ]
     },
     "execution_count": 298,
     "metadata": {},
     "output_type": "execute_result"
    },
    {
     "data": {
      "image/png": "[encoded data removed]",
      "text/plain": [
       "<Figure size 432x288 with 1 Axes>"
      ]
     },
     "metadata": {
      "needs_background": "light"
     },
     "output_type": "display_data"
    }
   ],
   "source": [
    "years_features = timeseries_numerical_features.copy()\n",
    "years_features.remove('MoSold')\n",
    "\n",
    "# don't include house sold in 2207 in plot\n",
    "years_valid_df = df[years_features].copy()\n",
    "years_valid_yf = yf.loc[yf['GarageYrBlt']!=2207]\n",
    "\n",
    "years_valid_yf.boxplot(rot=90)"
   ]
  },
  {
   "cell_type": "markdown",
   "metadata": {},
   "source": [
    "For the month sold feature we can see that most houses were sold around summer time with no outliers (as to be expected when all month values fall between 1 and 12)."
   ]
  },
  {
   "cell_type": "code",
   "execution_count": 275,
   "metadata": {},
   "outputs": [
    {
     "data": {
      "text/plain": [
       "<AxesSubplot:>"
      ]
     },
     "execution_count": 275,
     "metadata": {},
     "output_type": "execute_result"
    },
    {
     "data": {
      "image/png": "[encoded data removed]",
      "text/plain": [
       "<Figure size 432x288 with 1 Axes>"
      ]
     },
     "metadata": {
      "needs_background": "light"
     },
     "output_type": "display_data"
    }
   ],
   "source": [
    "df.boxplot('MoSold')"
   ]
  }
 ],
 "metadata": {
  "kernelspec": {
   "display_name": "Python 3",
   "language": "python",
   "name": "python3"
  },
  "language_info": {
   "codemirror_mode": {
    "name": "ipython",
    "version": 3
   },
   "file_extension": ".py",
   "mimetype": "text/x-python",
   "name": "python",
   "nbconvert_exporter": "python",
   "pygments_lexer": "ipython3",
   "version": "3.8.5"
  }
 },
 "nbformat": 4,
 "nbformat_minor": 4
}
